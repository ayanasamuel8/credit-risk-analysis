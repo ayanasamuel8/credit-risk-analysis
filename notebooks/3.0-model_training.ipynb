{
 "cells": [
  {
   "cell_type": "code",
   "execution_count": 2,
   "id": "41d8d71d",
   "metadata": {},
   "outputs": [],
   "source": [
    "import sys\n",
    "sys.path.append('../')"
   ]
  },
  {
   "cell_type": "code",
   "execution_count": 3,
   "id": "d726e90f",
   "metadata": {},
   "outputs": [],
   "source": [
    "# 📦 Imports\n",
    "import pandas as pd\n",
    "from sklearn.model_selection import train_test_split\n",
    "from src.train import train_model, evaluate_model, save_model\n",
    "from src.utils import load_data"
   ]
  },
  {
   "cell_type": "code",
   "execution_count": 4,
   "id": "74e53b6a",
   "metadata": {},
   "outputs": [
    {
     "name": "stdout",
     "output_type": "stream",
     "text": [
      "Data loaded successfully from ../data/processed/processed_data.csv\n"
     ]
    },
    {
     "data": {
      "text/html": [
       "<div>\n",
       "<style scoped>\n",
       "    .dataframe tbody tr th:only-of-type {\n",
       "        vertical-align: middle;\n",
       "    }\n",
       "\n",
       "    .dataframe tbody tr th {\n",
       "        vertical-align: top;\n",
       "    }\n",
       "\n",
       "    .dataframe thead th {\n",
       "        text-align: right;\n",
       "    }\n",
       "</style>\n",
       "<table border=\"1\" class=\"dataframe\">\n",
       "  <thead>\n",
       "    <tr style=\"text-align: right;\">\n",
       "      <th></th>\n",
       "      <th>Amount</th>\n",
       "      <th>Value</th>\n",
       "      <th>Frequency</th>\n",
       "      <th>AvgAmount</th>\n",
       "      <th>AmountStdDev</th>\n",
       "      <th>Recency</th>\n",
       "      <th>ProductCategory_airtime</th>\n",
       "      <th>ProductCategory_data_bundles</th>\n",
       "      <th>ProductCategory_financial_services</th>\n",
       "      <th>ProductCategory_movies</th>\n",
       "      <th>...</th>\n",
       "      <th>PricingStrategy_4</th>\n",
       "      <th>SubscriptionId</th>\n",
       "      <th>ProviderId_ProviderId_1</th>\n",
       "      <th>ProviderId_ProviderId_2</th>\n",
       "      <th>ProviderId_ProviderId_3</th>\n",
       "      <th>ProviderId_ProviderId_4</th>\n",
       "      <th>ProviderId_ProviderId_5</th>\n",
       "      <th>ProviderId_ProviderId_6</th>\n",
       "      <th>ProductId</th>\n",
       "      <th>is_high_risk</th>\n",
       "    </tr>\n",
       "  </thead>\n",
       "  <tbody>\n",
       "    <tr>\n",
       "      <th>0</th>\n",
       "      <td>0.643134</td>\n",
       "      <td>-0.031260</td>\n",
       "      <td>0.115536</td>\n",
       "      <td>-0.035832</td>\n",
       "      <td>-0.406095</td>\n",
       "      <td>-1.182989</td>\n",
       "      <td>1.0</td>\n",
       "      <td>0.0</td>\n",
       "      <td>0.0</td>\n",
       "      <td>0.0</td>\n",
       "      <td>...</td>\n",
       "      <td>0.0</td>\n",
       "      <td>3535.0</td>\n",
       "      <td>0.0</td>\n",
       "      <td>0.0</td>\n",
       "      <td>0.0</td>\n",
       "      <td>0.0</td>\n",
       "      <td>0.0</td>\n",
       "      <td>1.0</td>\n",
       "      <td>1.0</td>\n",
       "      <td>0</td>\n",
       "    </tr>\n",
       "    <tr>\n",
       "      <th>1</th>\n",
       "      <td>-0.809550</td>\n",
       "      <td>-1.832223</td>\n",
       "      <td>0.115536</td>\n",
       "      <td>-0.035832</td>\n",
       "      <td>-0.406095</td>\n",
       "      <td>-1.182989</td>\n",
       "      <td>0.0</td>\n",
       "      <td>0.0</td>\n",
       "      <td>1.0</td>\n",
       "      <td>0.0</td>\n",
       "      <td>...</td>\n",
       "      <td>0.0</td>\n",
       "      <td>2366.0</td>\n",
       "      <td>0.0</td>\n",
       "      <td>0.0</td>\n",
       "      <td>0.0</td>\n",
       "      <td>1.0</td>\n",
       "      <td>0.0</td>\n",
       "      <td>0.0</td>\n",
       "      <td>19.0</td>\n",
       "      <td>0</td>\n",
       "    </tr>\n",
       "    <tr>\n",
       "      <th>2</th>\n",
       "      <td>0.542114</td>\n",
       "      <td>-0.353843</td>\n",
       "      <td>-2.147000</td>\n",
       "      <td>-0.189247</td>\n",
       "      <td>-5.996952</td>\n",
       "      <td>1.911180</td>\n",
       "      <td>1.0</td>\n",
       "      <td>0.0</td>\n",
       "      <td>0.0</td>\n",
       "      <td>0.0</td>\n",
       "      <td>...</td>\n",
       "      <td>0.0</td>\n",
       "      <td>996.0</td>\n",
       "      <td>0.0</td>\n",
       "      <td>0.0</td>\n",
       "      <td>0.0</td>\n",
       "      <td>0.0</td>\n",
       "      <td>0.0</td>\n",
       "      <td>1.0</td>\n",
       "      <td>0.0</td>\n",
       "      <td>1</td>\n",
       "    </tr>\n",
       "    <tr>\n",
       "      <th>3</th>\n",
       "      <td>1.080223</td>\n",
       "      <td>1.404650</td>\n",
       "      <td>-0.573815</td>\n",
       "      <td>0.433114</td>\n",
       "      <td>0.799973</td>\n",
       "      <td>-0.142576</td>\n",
       "      <td>0.0</td>\n",
       "      <td>0.0</td>\n",
       "      <td>0.0</td>\n",
       "      <td>0.0</td>\n",
       "      <td>...</td>\n",
       "      <td>0.0</td>\n",
       "      <td>974.0</td>\n",
       "      <td>1.0</td>\n",
       "      <td>0.0</td>\n",
       "      <td>0.0</td>\n",
       "      <td>0.0</td>\n",
       "      <td>0.0</td>\n",
       "      <td>0.0</td>\n",
       "      <td>11.0</td>\n",
       "      <td>0</td>\n",
       "    </tr>\n",
       "    <tr>\n",
       "      <th>4</th>\n",
       "      <td>-1.309389</td>\n",
       "      <td>-0.236095</td>\n",
       "      <td>-0.573815</td>\n",
       "      <td>0.433114</td>\n",
       "      <td>0.799973</td>\n",
       "      <td>-0.142576</td>\n",
       "      <td>0.0</td>\n",
       "      <td>0.0</td>\n",
       "      <td>1.0</td>\n",
       "      <td>0.0</td>\n",
       "      <td>...</td>\n",
       "      <td>0.0</td>\n",
       "      <td>2366.0</td>\n",
       "      <td>0.0</td>\n",
       "      <td>0.0</td>\n",
       "      <td>0.0</td>\n",
       "      <td>1.0</td>\n",
       "      <td>0.0</td>\n",
       "      <td>0.0</td>\n",
       "      <td>19.0</td>\n",
       "      <td>0</td>\n",
       "    </tr>\n",
       "  </tbody>\n",
       "</table>\n",
       "<p>5 rows × 32 columns</p>\n",
       "</div>"
      ],
      "text/plain": [
       "     Amount     Value  Frequency  AvgAmount  AmountStdDev   Recency  \\\n",
       "0  0.643134 -0.031260   0.115536  -0.035832     -0.406095 -1.182989   \n",
       "1 -0.809550 -1.832223   0.115536  -0.035832     -0.406095 -1.182989   \n",
       "2  0.542114 -0.353843  -2.147000  -0.189247     -5.996952  1.911180   \n",
       "3  1.080223  1.404650  -0.573815   0.433114      0.799973 -0.142576   \n",
       "4 -1.309389 -0.236095  -0.573815   0.433114      0.799973 -0.142576   \n",
       "\n",
       "   ProductCategory_airtime  ProductCategory_data_bundles  \\\n",
       "0                      1.0                           0.0   \n",
       "1                      0.0                           0.0   \n",
       "2                      1.0                           0.0   \n",
       "3                      0.0                           0.0   \n",
       "4                      0.0                           0.0   \n",
       "\n",
       "   ProductCategory_financial_services  ProductCategory_movies  ...  \\\n",
       "0                                 0.0                     0.0  ...   \n",
       "1                                 1.0                     0.0  ...   \n",
       "2                                 0.0                     0.0  ...   \n",
       "3                                 0.0                     0.0  ...   \n",
       "4                                 1.0                     0.0  ...   \n",
       "\n",
       "   PricingStrategy_4  SubscriptionId  ProviderId_ProviderId_1  \\\n",
       "0                0.0          3535.0                      0.0   \n",
       "1                0.0          2366.0                      0.0   \n",
       "2                0.0           996.0                      0.0   \n",
       "3                0.0           974.0                      1.0   \n",
       "4                0.0          2366.0                      0.0   \n",
       "\n",
       "   ProviderId_ProviderId_2  ProviderId_ProviderId_3  ProviderId_ProviderId_4  \\\n",
       "0                      0.0                      0.0                      0.0   \n",
       "1                      0.0                      0.0                      1.0   \n",
       "2                      0.0                      0.0                      0.0   \n",
       "3                      0.0                      0.0                      0.0   \n",
       "4                      0.0                      0.0                      1.0   \n",
       "\n",
       "   ProviderId_ProviderId_5  ProviderId_ProviderId_6  ProductId  is_high_risk  \n",
       "0                      0.0                      1.0        1.0             0  \n",
       "1                      0.0                      0.0       19.0             0  \n",
       "2                      0.0                      1.0        0.0             1  \n",
       "3                      0.0                      0.0       11.0             0  \n",
       "4                      0.0                      0.0       19.0             0  \n",
       "\n",
       "[5 rows x 32 columns]"
      ]
     },
     "execution_count": 4,
     "metadata": {},
     "output_type": "execute_result"
    }
   ],
   "source": [
    "df = load_data('../data/processed/processed_data.csv')\n",
    "df.head()"
   ]
  },
  {
   "cell_type": "code",
   "execution_count": 5,
   "id": "73f33f1e",
   "metadata": {},
   "outputs": [],
   "source": [
    "# 🎯 Prepare features and target\n",
    "X = df.drop(columns=[\"is_high_risk\"])\n",
    "y = df[\"is_high_risk\"]"
   ]
  },
  {
   "cell_type": "code",
   "execution_count": 6,
   "id": "077e68b2",
   "metadata": {},
   "outputs": [],
   "source": [
    "# ✂️ Split data\n",
    "X_train, X_test, y_train, y_test = train_test_split(X, y, test_size=0.3, random_state=45)"
   ]
  },
  {
   "cell_type": "code",
   "execution_count": 7,
   "id": "de5b2b6a",
   "metadata": {},
   "outputs": [
    {
     "name": "stdout",
     "output_type": "stream",
     "text": [
      "Training Logistic Regression...\n"
     ]
    },
    {
     "name": "stderr",
     "output_type": "stream",
     "text": [
      "c:\\Users\\user\\Documents\\Datasience\\credict-risk-analysis\\.venv\\Lib\\site-packages\\sklearn\\linear_model\\_logistic.py:470: ConvergenceWarning: lbfgs failed to converge after 1000 iteration(s) (status=1):\n",
      "STOP: TOTAL NO. OF ITERATIONS REACHED LIMIT\n",
      "\n",
      "Increase the number of iterations to improve the convergence (max_iter=1000).\n",
      "You might also want to scale the data as shown in:\n",
      "    https://scikit-learn.org/stable/modules/preprocessing.html\n",
      "Please also refer to the documentation for alternative solver options:\n",
      "    https://scikit-learn.org/stable/modules/linear_model.html#logistic-regression\n",
      "  n_iter_i = _check_optimize_result(\n",
      "2025/07/01 19:43:10 WARNING mlflow.models.model: `artifact_path` is deprecated. Please use `name` instead.\n",
      "2025/07/01 19:43:15 WARNING mlflow.models.model: Model logged without a signature and input example. Please set `input_example` parameter when logging the model to auto infer the model signature.\n"
     ]
    },
    {
     "name": "stdout",
     "output_type": "stream",
     "text": [
      "Training Random Forest...\n"
     ]
    },
    {
     "name": "stderr",
     "output_type": "stream",
     "text": [
      "2025/07/01 19:43:40 WARNING mlflow.models.model: `artifact_path` is deprecated. Please use `name` instead.\n",
      "2025/07/01 19:43:44 WARNING mlflow.models.model: Model logged without a signature and input example. Please set `input_example` parameter when logging the model to auto infer the model signature.\n"
     ]
    },
    {
     "name": "stdout",
     "output_type": "stream",
     "text": [
      "Training Gradient Boosting...\n"
     ]
    },
    {
     "name": "stderr",
     "output_type": "stream",
     "text": [
      "c:\\Users\\user\\Documents\\Datasience\\credict-risk-analysis\\.venv\\Lib\\site-packages\\xgboost\\training.py:183: UserWarning: [19:43:49] WARNING: C:\\actions-runner\\_work\\xgboost\\xgboost\\src\\learner.cc:738: \n",
      "Parameters: { \"use_label_encoder\" } are not used.\n",
      "\n",
      "  bst.update(dtrain, iteration=i, fobj=obj)\n",
      "2025/07/01 19:43:50 WARNING mlflow.models.model: `artifact_path` is deprecated. Please use `name` instead.\n",
      "2025/07/01 19:43:53 WARNING mlflow.models.model: Model logged without a signature and input example. Please set `input_example` parameter when logging the model to auto infer the model signature.\n"
     ]
    }
   ],
   "source": [
    "from mlflow.tracking import MlflowClient\n",
    "\n",
    "models = {\n",
    "    \"Logistic Regression\": \"logistic\",\n",
    "    \"Random Forest\": \"random_forest\",\n",
    "    \"Gradient Boosting\": \"xgboost\"\n",
    "}\n",
    "\n",
    "results = []\n",
    "returned_models = []\n",
    "\n",
    "best_f1 = -1\n",
    "best_model_info = {}\n",
    "\n",
    "for display_name, internal_name in models.items():\n",
    "    print(f\"Training {display_name}...\")\n",
    "\n",
    "    model, run_id = train_model(X_train, y_train, model_name=internal_name)\n",
    "    metrics = evaluate_model(model, X_test, y_test)\n",
    "\n",
    "    f1 = metrics[\"f1_score\"]\n",
    "\n",
    "    results.append({\n",
    "        \"Model\": display_name,\n",
    "        \"Accuracy\": round(metrics[\"accuracy\"], 3),\n",
    "        \"Precision\": round(metrics[\"precision\"], 3),\n",
    "        \"Recall\": round(metrics[\"recall\"], 3),\n",
    "        \"F1 Score\": round(f1, 3),\n",
    "        \"ROC AUC\": round(metrics[\"roc_auc\"], 3)\n",
    "    })\n",
    "\n",
    "    returned_models.append(model)\n",
    "\n",
    "    # Track the best model\n",
    "    if f1 > best_f1:\n",
    "        best_f1 = f1\n",
    "        best_model_info = {\n",
    "            \"display_name\": display_name,\n",
    "            \"internal_name\": internal_name,\n",
    "            \"run_id\": run_id\n",
    "        }"
   ]
  },
  {
   "cell_type": "code",
   "execution_count": 8,
   "id": "8225ce05",
   "metadata": {},
   "outputs": [
    {
     "name": "stderr",
     "output_type": "stream",
     "text": [
      "Registered model 'CreditRisk_xgboost_model' already exists. Creating a new version of this model...\n",
      "2025/07/01 19:43:54 WARNING mlflow.tracking._model_registry.fluent: Run with id ea8b1c5403c64e7589c9684913dd68e6 has no artifacts at artifact path 'model', registering model based on models:/m-a6b4966d1cce462b9a2cb8ea283d5f2f instead\n"
     ]
    },
    {
     "name": "stdout",
     "output_type": "stream",
     "text": [
      "\n",
      "Registering best model: Gradient Boosting (F1 Score: 0.999)\n"
     ]
    },
    {
     "name": "stderr",
     "output_type": "stream",
     "text": [
      "Created version '2' of model 'CreditRisk_xgboost_model'.\n",
      "C:\\Users\\user\\AppData\\Local\\Temp\\ipykernel_16860\\3088280963.py:11: FutureWarning: ``mlflow.tracking.client.MlflowClient.transition_model_version_stage`` is deprecated since 2.9.0. Model registry stages will be removed in a future major release. To learn more about the deprecation of model registry stages, see our migration guide here: https://mlflow.org/docs/latest/model-registry.html#migrating-from-stages\n",
      "  client.transition_model_version_stage(\n"
     ]
    },
    {
     "data": {
      "text/plain": [
       "<ModelVersion: aliases=[], creation_timestamp=1751388234292, current_stage='Production', deployment_job_state=None, description=None, last_updated_timestamp=1751388234406, metrics=[], model_id='m-a6b4966d1cce462b9a2cb8ea283d5f2f', name='CreditRisk_xgboost_model', params={'max_depth': '3', 'n_estimators': '200'}, run_id='ea8b1c5403c64e7589c9684913dd68e6', run_link=None, source='models:/m-a6b4966d1cce462b9a2cb8ea283d5f2f', status='READY', status_message=None, tags={}, user_id=None, version=2>"
      ]
     },
     "execution_count": 8,
     "metadata": {},
     "output_type": "execute_result"
    }
   ],
   "source": [
    "import mlflow\n",
    "# ✅ Register the best model\n",
    "print(f\"\\nRegistering best model: {best_model_info['display_name']} (F1 Score: {round(best_f1, 3)})\")\n",
    "\n",
    "client = MlflowClient()\n",
    "model_uri = f\"runs:/{best_model_info['run_id']}/model\"\n",
    "registered_model_name = f\"CreditRisk_{best_model_info['internal_name']}_model\"\n",
    "\n",
    "result = mlflow.register_model(model_uri, registered_model_name)\n",
    "\n",
    "client.transition_model_version_stage(\n",
    "    name=registered_model_name,\n",
    "    version=result.version,\n",
    "    stage=\"Production\",\n",
    "    archive_existing_versions=True\n",
    ")"
   ]
  },
  {
   "cell_type": "code",
   "execution_count": 9,
   "id": "dee56510",
   "metadata": {},
   "outputs": [
    {
     "data": {
      "text/html": [
       "<div>\n",
       "<style scoped>\n",
       "    .dataframe tbody tr th:only-of-type {\n",
       "        vertical-align: middle;\n",
       "    }\n",
       "\n",
       "    .dataframe tbody tr th {\n",
       "        vertical-align: top;\n",
       "    }\n",
       "\n",
       "    .dataframe thead th {\n",
       "        text-align: right;\n",
       "    }\n",
       "</style>\n",
       "<table border=\"1\" class=\"dataframe\">\n",
       "  <thead>\n",
       "    <tr style=\"text-align: right;\">\n",
       "      <th></th>\n",
       "      <th>Accuracy</th>\n",
       "      <th>Precision</th>\n",
       "      <th>Recall</th>\n",
       "      <th>F1 Score</th>\n",
       "      <th>ROC AUC</th>\n",
       "    </tr>\n",
       "    <tr>\n",
       "      <th>Model</th>\n",
       "      <th></th>\n",
       "      <th></th>\n",
       "      <th></th>\n",
       "      <th></th>\n",
       "      <th></th>\n",
       "    </tr>\n",
       "  </thead>\n",
       "  <tbody>\n",
       "    <tr>\n",
       "      <th>Logistic Regression</th>\n",
       "      <td>0.993</td>\n",
       "      <td>0.981</td>\n",
       "      <td>0.964</td>\n",
       "      <td>0.972</td>\n",
       "      <td>0.999</td>\n",
       "    </tr>\n",
       "    <tr>\n",
       "      <th>Random Forest</th>\n",
       "      <td>1.000</td>\n",
       "      <td>1.000</td>\n",
       "      <td>0.998</td>\n",
       "      <td>0.999</td>\n",
       "      <td>1.000</td>\n",
       "    </tr>\n",
       "    <tr>\n",
       "      <th>Gradient Boosting</th>\n",
       "      <td>1.000</td>\n",
       "      <td>1.000</td>\n",
       "      <td>0.999</td>\n",
       "      <td>0.999</td>\n",
       "      <td>1.000</td>\n",
       "    </tr>\n",
       "  </tbody>\n",
       "</table>\n",
       "</div>"
      ],
      "text/plain": [
       "                     Accuracy  Precision  Recall  F1 Score  ROC AUC\n",
       "Model                                                              \n",
       "Logistic Regression     0.993      0.981   0.964     0.972    0.999\n",
       "Random Forest           1.000      1.000   0.998     0.999    1.000\n",
       "Gradient Boosting       1.000      1.000   0.999     0.999    1.000"
      ]
     },
     "execution_count": 9,
     "metadata": {},
     "output_type": "execute_result"
    }
   ],
   "source": [
    "pd.DataFrame(results).set_index(\"Model\")\n"
   ]
  },
  {
   "cell_type": "code",
   "execution_count": 10,
   "id": "8ab4462d",
   "metadata": {},
   "outputs": [
    {
     "data": {
      "text/plain": [
       "is_high_risk\n",
       "0    0.87276\n",
       "1    0.12724\n",
       "Name: proportion, dtype: float64"
      ]
     },
     "execution_count": 10,
     "metadata": {},
     "output_type": "execute_result"
    }
   ],
   "source": [
    "y.value_counts(normalize=True)"
   ]
  }
 ],
 "metadata": {
  "kernelspec": {
   "display_name": ".venv",
   "language": "python",
   "name": "python3"
  },
  "language_info": {
   "codemirror_mode": {
    "name": "ipython",
    "version": 3
   },
   "file_extension": ".py",
   "mimetype": "text/x-python",
   "name": "python",
   "nbconvert_exporter": "python",
   "pygments_lexer": "ipython3",
   "version": "3.13.5"
  }
 },
 "nbformat": 4,
 "nbformat_minor": 5
}
